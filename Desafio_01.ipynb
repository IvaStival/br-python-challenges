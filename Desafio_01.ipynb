{
 "cells": [
  {
   "cell_type": "markdown",
   "metadata": {
    "colab_type": "text",
    "id": "view-in-github"
   },
   "source": [
    "![](https://i.imgur.com/YX6UATs.png)"
   ]
  },
  {
   "cell_type": "markdown",
   "metadata": {
    "colab_type": "text",
    "id": "SbLLE9q1eldC"
   },
   "source": [
    "### Desafio 1\n",
    "\n",
    "Escreva um programa em Python para contabilizar a quantidade de ocorrências de cada palavra."
   ]
  },
  {
   "cell_type": "code",
   "execution_count": 23,
   "metadata": {
    "colab": {},
    "colab_type": "code",
    "id": "WhtbdwFseldD"
   },
   "outputs": [
    {
     "data": {
      "text/plain": [
       "[{'red': 4},\n",
       " {'green': 4},\n",
       " {'black': 5},\n",
       " {'pink': 6},\n",
       " {'white': 5},\n",
       " {'eyes': 1},\n",
       " {'orange': 4}]"
      ]
     },
     "execution_count": 23,
     "metadata": {},
     "output_type": "execute_result"
    }
   ],
   "source": [
    "palavras = [\n",
    "   'red', 'green', 'black', 'pink', 'black', 'white', 'black', 'eyes',\n",
    "   'white', 'black', 'orange', 'pink', 'pink', 'red', 'red', 'white', 'orange',\n",
    "   'white', \"black\", 'pink', 'green', 'green', 'pink', 'green', 'pink',\n",
    "   'white', 'orange', \"orange\", 'red'\n",
    "]\n",
    "\n",
    "\n",
    "# Seu código\n",
    "# CREATE A LIST WITH ONLY UNIQUE WORDS\n",
    "unique = []\n",
    "\n",
    "# MODE01 - USING SIMPLE FOR TO GENERATE A LIST OF UNIQUE WORDS\n",
    "# for palavra in palavras:\n",
    "#     if palavra not in unique:\n",
    "#         unique.append(palavra)\n",
    "\n",
    "# MODE02 - USING LIST COMPREHENSION TO DO THE SAME\n",
    "# [unique.append(palavra) for palavra in palavras if palavra not in unique]\n",
    "\n",
    "# MODE03 \n",
    "unique = set(palavras)\n",
    "\n",
    "# USE THE UNIQUE LIST TO COUNT THE WORDS USING THE \"count\" PYTHON METHOD\n",
    "[{p:palavras.count(p)} for p in unique]"
   ]
  },
  {
   "cell_type": "code",
   "execution_count": null,
   "metadata": {},
   "outputs": [],
   "source": []
  }
 ],
 "metadata": {
  "anaconda-cloud": {},
  "colab": {
   "include_colab_link": true,
   "name": "Desafio 1.ipynb",
   "provenance": []
  },
  "kernelspec": {
   "display_name": "Python 3",
   "language": "python",
   "name": "python3"
  },
  "language_info": {
   "codemirror_mode": {
    "name": "ipython",
    "version": 3
   },
   "file_extension": ".py",
   "mimetype": "text/x-python",
   "name": "python",
   "nbconvert_exporter": "python",
   "pygments_lexer": "ipython3",
   "version": "3.7.1"
  }
 },
 "nbformat": 4,
 "nbformat_minor": 2
}
