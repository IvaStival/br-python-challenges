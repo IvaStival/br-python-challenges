{
 "cells": [
  {
   "cell_type": "markdown",
   "metadata": {
    "colab_type": "text",
    "id": "view-in-github"
   },
   "source": [
    "![](https://i.imgur.com/YX6UATs.png)"
   ]
  },
  {
   "cell_type": "markdown",
   "metadata": {
    "colab_type": "text",
    "id": "o3tkeMDNf6Jo"
   },
   "source": [
    "### Desafio 8\n",
    "\n",
    "Escreva um script Python para encontrar as 10 palavras mais longas em um arquivo de texto.\n",
    "O arquivo .txt está localizado na mesma pasta do projeto (**texto.txt**)."
   ]
  },
  {
   "cell_type": "code",
   "execution_count": 71,
   "metadata": {
    "colab": {},
    "colab_type": "code",
    "id": "EknxjSG0f6Jo"
   },
   "outputs": [
    {
     "data": {
      "text/plain": [
       "[('comprehensive', 13),\n",
       " ('intermediate', 12),\n",
       " ('interpreted', 11),\n",
       " ('programming', 11),\n",
       " ('readability', 11),\n",
       " ('programmers', 11),\n",
       " ('philosophy', 10),\n",
       " ('emphasizes', 10),\n",
       " ('imperative', 10),\n",
       " ('functional', 10)]"
      ]
     },
     "execution_count": 71,
     "metadata": {},
     "output_type": "execute_result"
    }
   ],
   "source": [
    "# USE A BEFORE EXERCISE UNIQUE FUNCTION \n",
    "def unique(my_list):\n",
    "    # CREATE A LIST WITH ONLY UNIQUE WORDS\n",
    "    unique = []\n",
    "\n",
    "    # FOR THAT SCROLLS THROUGH THE my_list AND STORE ONLY UNIQUE VALUES, IF THE ITEM ALREADY EXISTS INSIDE THE unique LIST CONTINUE \n",
    "    [unique.append(palavra.lower()) for palavra in my_list if palavra.lower() not in unique]\n",
    "\n",
    "    return unique\n",
    "\n",
    "# OPEN FILE\n",
    "with open('texto.txt', 'r') as file:\n",
    "    # READ THE ENTIRE FILE TO MEMORY\n",
    "    text = file.read()\n",
    "\n",
    "# UNWANTED CHARACTERS\n",
    "strings_pont = \",\\()?\"\n",
    "\n",
    "# USE THIS CODE TO REMOVE THE UNWANTED CHARACTERS AND REPLACE THE \"\\n\", \".\" and \"-\" WITH SPACE \" \"\n",
    "word_list = text.translate(str.maketrans('', '', strings_pont)).replace('\\n', '').replace(\".\", \" \").replace(\"-\", \" \").split(\" \")\n",
    "\n",
    "# EXECUTE THE unique WORDS FUNCTION\n",
    "unique_words = unique(word_list)\n",
    "\n",
    "# CREATE A DICTIONARY TO STORE THE WORD AND YOUR SIZE\n",
    "dict_words = {w:len(w) for w in unique_words if w != ''}\n",
    "\n",
    "# THIS CODE RETURN THE 10 BIGGER WORDS INSIDE dict_words\n",
    "sorted(dict_words.items(), key=lambda item: item[1], reverse=True)[:10]\n"
   ]
  },
  {
   "cell_type": "code",
   "execution_count": null,
   "metadata": {
    "colab": {},
    "colab_type": "code",
    "id": "ZYbqEWBG5nKx"
   },
   "outputs": [],
   "source": []
  }
 ],
 "metadata": {
  "anaconda-cloud": {},
  "colab": {
   "include_colab_link": true,
   "name": "Desafio 8.ipynb",
   "provenance": []
  },
  "kernelspec": {
   "display_name": "Python 3",
   "language": "python",
   "name": "python3"
  },
  "language_info": {
   "codemirror_mode": {
    "name": "ipython",
    "version": 3
   },
   "file_extension": ".py",
   "mimetype": "text/x-python",
   "name": "python",
   "nbconvert_exporter": "python",
   "pygments_lexer": "ipython3",
   "version": "3.7.1"
  }
 },
 "nbformat": 4,
 "nbformat_minor": 2
}
