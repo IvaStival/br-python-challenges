{
 "cells": [
  {
   "cell_type": "markdown",
   "metadata": {
    "colab_type": "text",
    "id": "view-in-github"
   },
   "source": [
    "![](https://i.imgur.com/YX6UATs.png)"
   ]
  },
  {
   "cell_type": "markdown",
   "metadata": {
    "colab_type": "text",
    "id": "dOqcKUYZf6JW"
   },
   "source": [
    "### Desafio 4\n",
    "\n",
    "Escreva uma função cuja entrada é uma string e a saída é outra string com as palavras em ordem inversa.\n",
    "\n",
    "Exemplo:\n",
    "\n",
    "inverte_texto(\"Python é legal\") ➞ \"legal é Python\""
   ]
  },
  {
   "cell_type": "code",
   "execution_count": 10,
   "metadata": {
    "colab": {},
    "colab_type": "code",
    "id": "I5TInJDaf6JW"
   },
   "outputs": [
    {
     "data": {
      "text/plain": [
       "'frase a inverter de funçao a Testando'"
      ]
     },
     "execution_count": 10,
     "metadata": {},
     "output_type": "execute_result"
    }
   ],
   "source": [
    "# Seu código\n",
    "# FUNCTION THAT INVERT THE PHRASE\n",
    "def invertPhrase(phrase):\n",
    "    # SPLIT THE PHRASE BY THE SPACES, THIS CREATE A LIST WITH THE ALL WORDS\n",
    "    word_list = phrase.split(\" \")\n",
    "    \n",
    "    # MODE01\n",
    "    # USING A FOR LOOP THAT INIT THE INDEX ON THE LAST POSITION 'len(world_list)-1' (-1 BECAUSE IN PYTHON THE INDEX IS -1) AND DECREMENT IT UNITL '0'\n",
    "    # result = [word_list[i] for i in range(len(word_list)-1, -1, -1)]\n",
    "    \n",
    "    # USING THE JOIN FUNCTION WITH THE SPACE TO REMOUNT THE PHRASE\n",
    "    # return \" \".join(result)\n",
    "    \n",
    "    # MODE02\n",
    "    return \" \".join(word_list[::-1])\n",
    "\n",
    "\n",
    "invertPhrase(\"Testando a funçao de inverter a frase\")"
   ]
  },
  {
   "cell_type": "code",
   "execution_count": null,
   "metadata": {},
   "outputs": [],
   "source": []
  }
 ],
 "metadata": {
  "anaconda-cloud": {},
  "colab": {
   "include_colab_link": true,
   "name": "Desafio 4.ipynb",
   "provenance": []
  },
  "kernelspec": {
   "display_name": "Python 3",
   "language": "python",
   "name": "python3"
  },
  "language_info": {
   "codemirror_mode": {
    "name": "ipython",
    "version": 3
   },
   "file_extension": ".py",
   "mimetype": "text/x-python",
   "name": "python",
   "nbconvert_exporter": "python",
   "pygments_lexer": "ipython3",
   "version": "3.7.1"
  }
 },
 "nbformat": 4,
 "nbformat_minor": 2
}
